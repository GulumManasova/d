{
 "cells": [
  {
   "cell_type": "code",
   "execution_count": 4,
   "id": "fcc09200",
   "metadata": {},
   "outputs": [
    {
     "name": "stdout",
     "output_type": "stream",
     "text": [
      "january       1\n",
      "february      2\n",
      "march         3\n",
      "april         4\n",
      "may           5\n",
      "june          6\n",
      "july          7\n",
      "augest        8\n",
      "september     9\n",
      "october      10\n",
      "november     11\n",
      "december     12\n",
      "dtype: int64\n"
     ]
    }
   ],
   "source": [
    "import pandas as pd\n",
    "years={\"january\": 1, \"february\": 2,\"march\":3, \n",
    "       \"april\":4,\"may\":5,\"june\":6, \"july\":7,\"augest\":8,\n",
    "       \"september\":9,\"october\":10,\"november\":11,\n",
    "       \"december\":12\n",
    "    }\n",
    "months=pd.Series(years)\n",
    "print(months)"
   ]
  },
  {
   "cell_type": "code",
   "execution_count": 1,
   "id": "e232811d",
   "metadata": {},
   "outputs": [
    {
     "name": "stdout",
     "output_type": "stream",
     "text": [
      "matmie     33\n",
      "matdais    30\n",
      "comse      28\n",
      "comie      25\n",
      "dtype: int64\n"
     ]
    }
   ],
   "source": [
    "import pandas as pd\n",
    "group={\"matmie\":33, \"matdais\":30, \"comse\":28, \"comie\":25}\n",
    "s=pd.Series(group)\n",
    "print(s)"
   ]
  }
 ],
 "metadata": {
  "kernelspec": {
   "display_name": "Python 3 (ipykernel)",
   "language": "python",
   "name": "python3"
  },
  "language_info": {
   "codemirror_mode": {
    "name": "ipython",
    "version": 3
   },
   "file_extension": ".py",
   "mimetype": "text/x-python",
   "name": "python",
   "nbconvert_exporter": "python",
   "pygments_lexer": "ipython3",
   "version": "3.11.5"
  }
 },
 "nbformat": 4,
 "nbformat_minor": 5
}

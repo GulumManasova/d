{
 "cells": [
  {
   "cell_type": "markdown",
   "id": "49ee6a65",
   "metadata": {},
   "source": [
    "Q1: Which type of data can be used while creating a series object in pandas?\n",
    "\n",
    "The data types that can be used in a pandas Series include:\n",
    "Integer: int\n",
    "Float: float\n",
    "Complex: complex\n",
    "Boolean Type:\n",
    "bool\n",
    "Datetime Types:\n",
    "datetime64\n",
    "Timedelta Type:\n",
    "timedelta64\n",
    "String Type:\n",
    "object (though this allows mixed data types and is generally used for string data)\n",
    "Categorical Type:\n",
    "category (a pandas-specific data type for categorical data)\n",
    "Custom Objects:\n",
    "You can use custom objects or other data types, and pandas will try to infer the appropriate data type."
   ]
  },
  {
   "cell_type": "markdown",
   "id": "f27d4394",
   "metadata": {},
   "source": [
    "Q2: Create a series having the month's number as data and assign name as their index values?"
   ]
  },
  {
   "cell_type": "code",
   "execution_count": 4,
   "id": "fcc09200",
   "metadata": {},
   "outputs": [
    {
     "name": "stdout",
     "output_type": "stream",
     "text": [
      "january       1\n",
      "february      2\n",
      "march         3\n",
      "april         4\n",
      "may           5\n",
      "june          6\n",
      "july          7\n",
      "augest        8\n",
      "september     9\n",
      "october      10\n",
      "november     11\n",
      "december     12\n",
      "dtype: int64\n"
     ]
    }
   ],
   "source": [
    "import pandas as pd\n",
    "years={\"january\": 1, \"february\": 2,\"march\":3, \n",
    "       \"april\":4,\"may\":5,\"june\":6, \"july\":7,\"augest\":8,\n",
    "       \"september\":9,\"october\":10,\"november\":11,\n",
    "       \"december\":12\n",
    "    }\n",
    "months=pd.Series(years)\n",
    "print(months)"
   ]
  },
  {
   "cell_type": "markdown",
   "id": "c8c3060e",
   "metadata": {},
   "source": [
    "Write a program to create a series object using the dictionary which store the number of students in fresh batch groups ( MatMIE, Mat DAIS, COMIE, COMEC)?"
   ]
  },
  {
   "cell_type": "code",
   "execution_count": 1,
   "id": "e232811d",
   "metadata": {},
   "outputs": [
    {
     "name": "stdout",
     "output_type": "stream",
     "text": [
      "matmie     33\n",
      "matdais    30\n",
      "comse      28\n",
      "comie      25\n",
      "dtype: int64\n"
     ]
    }
   ],
   "source": [
    "import pandas as pd\n",
    "group={\"matmie\":33, \"matdais\":30, \"comse\":28, \"comie\":25}\n",
    "s=pd.Series(group)\n",
    "print(s)"
   ]
  },
  {
   "cell_type": "markdown",
   "id": "a94c61a1",
   "metadata": {},
   "source": [
    "Q4: Write a Pandas program to create and display a DataFrame from a specified dictionary data which has the index labels.\n"
   ]
  },
  {
   "cell_type": "code",
   "execution_count": 3,
   "id": "3324b4b6",
   "metadata": {},
   "outputs": [
    {
     "name": "stdout",
     "output_type": "stream",
     "text": [
      "        name  score  attempts qualify\n",
      "a  Anastasia   12.5         1     yes\n",
      "b       Dima    9.0         3      no\n",
      "c  Katherine   16.5         2     yes\n",
      "d      James    NaN         3      no\n",
      "e      Emily    9.0         2      no\n",
      "f    Michael   20.0         3     yes\n",
      "g    Matthew   14.5         1     yes\n",
      "h      Laura    NaN         1      no\n",
      "i      Kevin    8.0         2      no\n",
      "j      Jonas   19.0         1     yes\n"
     ]
    }
   ],
   "source": [
    "import numpy as np\n",
    "import pandas as pd\n",
    "exam_data = {'name': ['Anastasia', 'Dima', 'Katherine', 'James', 'Emily', 'Michael', 'Matthew', 'Laura', 'Kevin', 'Jonas'],\n",
    "             'score': [12.5, 9, 16.5, np.nan, 9, 20, 14.5, np.nan, 8, 19],\n",
    "             'attempts': [1, 3, 2, 3, 2, 3, 1, 1, 2, 1],\n",
    "             'qualify': ['yes', 'no', 'yes', 'no', 'no', 'yes', 'yes', 'no', 'no', 'yes']}\n",
    "labels = ['a', 'b', 'c', 'd', 'e', 'f', 'g', 'h', 'i', 'j'] \n",
    "\n",
    "df = pd.DataFrame(exam_data, index=labels)\n",
    "\n",
    "print(df)"
   ]
  },
  {
   "cell_type": "markdown",
   "id": "227c0d7d",
   "metadata": {},
   "source": [
    "Q5: Write a Pandas program to select the rows where the number of attempts in the examination is greater than 2"
   ]
  },
  {
   "cell_type": "code",
   "execution_count": 4,
   "id": "1672b93d",
   "metadata": {},
   "outputs": [
    {
     "name": "stdout",
     "output_type": "stream",
     "text": [
      "      name  score  attempts qualify\n",
      "b     Dima    9.0         3      no\n",
      "d    James    NaN         3      no\n",
      "f  Michael   20.0         3     yes\n"
     ]
    }
   ],
   "source": [
    "\n",
    "import numpy as np\n",
    "import pandas as pd\n",
    "exam_data = {\n",
    "    'name': ['Anastasia', 'Dima', 'Katherine', 'James', 'Emily', 'Michael', 'Matthew', 'Laura', 'Kevin', 'Jonas'],\n",
    "    'score': [12.5, 9, 16.5, np.nan, 9, 20, 14.5, np.nan, 8, 19],\n",
    "    'attempts': [1, 3, 2, 3, 2, 3, 1, 1, 2, 1],\n",
    "    'qualify': ['yes', 'no', 'yes', 'no', 'no', 'yes', 'yes', 'no', 'no', 'yes']\n",
    "}\n",
    "labels = ['a', 'b', 'c', 'd', 'e', 'f', 'g', 'h', 'i', 'j']\n",
    "\n",
    "df = pd.DataFrame(exam_data, index=labels)\n",
    "\n",
    "result = df[df['attempts'] > 2]\n",
    "\n",
    "print(result)"
   ]
  }
 ],
 "metadata": {
  "kernelspec": {
   "display_name": "Python 3 (ipykernel)",
   "language": "python",
   "name": "python3"
  },
  "language_info": {
   "codemirror_mode": {
    "name": "ipython",
    "version": 3
   },
   "file_extension": ".py",
   "mimetype": "text/x-python",
   "name": "python",
   "nbconvert_exporter": "python",
   "pygments_lexer": "ipython3",
   "version": "3.11.5"
  }
 },
 "nbformat": 4,
 "nbformat_minor": 5
}

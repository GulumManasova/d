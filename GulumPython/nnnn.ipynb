{
 "cells": [
  {
   "cell_type": "code",
   "execution_count": 1,
   "id": "717c7883",
   "metadata": {},
   "outputs": [
    {
     "name": "stdout",
     "output_type": "stream",
     "text": [
      "    Car;MPG;Cylinders;Displacement;Horsepower;Weight;Acceleration;Model;Origin\n",
      "0    STRING;DOUBLE;INT;DOUBLE;DOUBLE;DOUBLE;DOUBLE;...                        \n",
      "1    Chevrolet Chevelle Malibu;18.0;8;307.0;130.0;3...                        \n",
      "2    Buick Skylark 320;15.0;8;350.0;165.0;3693.;11....                        \n",
      "3    Plymouth Satellite;18.0;8;318.0;150.0;3436.;11...                        \n",
      "4    AMC Rebel SST;16.0;8;304.0;150.0;3433.;12.0;70;US                        \n",
      "..                                                 ...                        \n",
      "402  Ford Mustang GL;27.0;4;140.0;86.00;2790.;15.6;...                        \n",
      "403  Volkswagen Pickup;44.0;4;97.00;52.00;2130.;24....                        \n",
      "404  Dodge Rampage;32.0;4;135.0;84.00;2295.;11.6;82;US                        \n",
      "405    Ford Ranger;28.0;4;120.0;79.00;2625.;18.6;82;US                        \n",
      "406     Chevy S-10;31.0;4;119.0;82.00;2720.;19.4;82;US                        \n",
      "\n",
      "[407 rows x 1 columns]\n"
     ]
    }
   ],
   "source": [
    "import pandas as pd\n",
    "\n",
    "df = pd.read_csv('cars.csv')\n",
    "\n",
    "print(df)"
   ]
  },
  {
   "cell_type": "code",
   "execution_count": null,
   "id": "320f1d99",
   "metadata": {},
   "outputs": [],
   "source": []
  }
 ],
 "metadata": {
  "kernelspec": {
   "display_name": "Python 3 (ipykernel)",
   "language": "python",
   "name": "python3"
  },
  "language_info": {
   "codemirror_mode": {
    "name": "ipython",
    "version": 3
   },
   "file_extension": ".py",
   "mimetype": "text/x-python",
   "name": "python",
   "nbconvert_exporter": "python",
   "pygments_lexer": "ipython3",
   "version": "3.11.5"
  }
 },
 "nbformat": 4,
 "nbformat_minor": 5
}

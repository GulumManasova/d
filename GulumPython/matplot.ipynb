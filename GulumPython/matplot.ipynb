{
 "cells": [
  {
   "cell_type": "code",
   "execution_count": 2,
   "id": "8f6c3455",
   "metadata": {},
   "outputs": [
    {
     "name": "stdout",
     "output_type": "stream",
     "text": [
      "     Duration  Pulse  Maxpulse  Calories\n",
      "0          60    110       130     409.1\n",
      "1          60    117       145     479.0\n",
      "2          60    103       135     340.0\n",
      "3          45    109       175     282.4\n",
      "4          45    117       148     406.0\n",
      "..        ...    ...       ...       ...\n",
      "164        60    105       140     290.8\n",
      "165        60    110       145     300.0\n",
      "166        60    115       145     310.2\n",
      "167        75    120       150     320.4\n",
      "168        75    125       150     330.4\n",
      "\n",
      "[169 rows x 4 columns]\n"
     ]
    }
   ],
   "source": [
    "import pandas as pd\n",
    "import matplotlib.pyplot as plt\n",
    "\n",
    "file_path = 'data.csv'\n",
    "data = pd.read_csv(file_path)\n",
    "print(data)"
   ]
  },
  {
   "cell_type": "code",
   "execution_count": 9,
   "id": "1b1c2110",
   "metadata": {},
   "outputs": [
    {
     "name": "stdout",
     "output_type": "stream",
     "text": [
      "    Index      Customer Id First Name Last Name  \\\n",
      "0       1  DD37Cf93aecA6Dc     Sheryl    Baxter   \n",
      "1       2  1Ef7b82A4CAAD10    Preston    Lozano   \n",
      "2       3  6F94879bDAfE5a6        Roy     Berry   \n",
      "3       4  5Cef8BFA16c5e3c      Linda     Olsen   \n",
      "4       5  053d585Ab6b3159     Joanna    Bender   \n",
      "..    ...              ...        ...       ...   \n",
      "95     96  cb8E23e48d22Eae       Karl     Greer   \n",
      "96     97  CeD220bdAaCfaDf       Lynn  Atkinson   \n",
      "97     98  28CDbC0dFe4b1Db       Fred    Guerra   \n",
      "98     99  c23d1D9EE8DEB0A     Yvonne    Farmer   \n",
      "99    100  2354a0E336A91A1   Clarence    Haynes   \n",
      "\n",
      "                            Company               City  \\\n",
      "0                   Rasmussen Group       East Leonard   \n",
      "1                       Vega-Gentry  East Jimmychester   \n",
      "2                     Murillo-Perry      Isabelborough   \n",
      "3   Dominguez, Mcmillan and Donovan         Bensonview   \n",
      "4          Martin, Lang and Andrade     West Priscilla   \n",
      "..                              ...                ...   \n",
      "95                        Carey LLC       East Richard   \n",
      "96            Ware, Burns and Oneal       New Bradview   \n",
      "97                    Schmitt-Jones         Ortegaland   \n",
      "98               Fitzgerald-Harrell    Lake Elijahview   \n",
      "99               Le, Nash and Cross          Judymouth   \n",
      "\n",
      "                       Country                 Phone 1  \\\n",
      "0                        Chile            229.077.5154   \n",
      "1                     Djibouti              5153435776   \n",
      "2          Antigua and Barbuda         +1-539-402-0259   \n",
      "3           Dominican Republic  001-808-617-6467x12895   \n",
      "4   Slovakia (Slovak Republic)  001-234-203-0635x76146   \n",
      "..                         ...                     ...   \n",
      "95                      Guyana     (188)169-1674x58692   \n",
      "96                   Sri Lanka         +1-846-706-2218   \n",
      "97             Solomon Islands    +1-753-067-8419x7170   \n",
      "98                       Aruba           (530)311-9786   \n",
      "99                    Honduras           (753)813-6941   \n",
      "\n",
      "                   Phone 2                           Email Subscription Date  \\\n",
      "0         397.884.0519x718        zunigavanessa@smith.info        2020-08-24   \n",
      "1         686-620-1820x944                 vmata@colon.com        2021-04-23   \n",
      "2      (496)978-3969x58947             beckycarr@hogan.com        2020-03-25   \n",
      "3          +1-813-324-8756     stanleyblackwell@benson.org        2020-06-02   \n",
      "4    001-199-446-3860x3486         colinalvarado@miles.net        2021-04-17   \n",
      "..                     ...                             ...               ...   \n",
      "95    001-841-293-3519x614                hhart@jensen.com        2022-01-30   \n",
      "96            605.413.3198               vkemp@ferrell.com        2021-07-10   \n",
      "97   +1-632-666-7507x92121                swagner@kane.org        2021-09-18   \n",
      "98  001-869-452-0943x12424  mccarthystephen@horn-green.biz        2021-08-11   \n",
      "99            783.639.1472          colleen91@faulkner.biz        2020-03-11   \n",
      "\n",
      "                              Website  \n",
      "0          http://www.stephenson.com/  \n",
      "1               http://www.hobbs.com/  \n",
      "2            http://www.lawrence.com/  \n",
      "3          http://www.good-lyons.com/  \n",
      "4         https://goodwin-ingram.com/  \n",
      "..                                ...  \n",
      "95            http://hayes-perez.com/  \n",
      "96         https://novak-allison.com/  \n",
      "97              https://www.ross.com/  \n",
      "98               http://watkins.info/  \n",
      "99  http://www.hatfield-saunders.net/  \n",
      "\n",
      "[100 rows x 12 columns]\n"
     ]
    }
   ],
   "source": [
    "import pandas as pd\n",
    "import matplotlib.pyplot as plt\n",
    "import csv\n",
    "\n",
    "file_path = 'customers-100.csv'\n",
    "\n",
    "data = pd.read_csv(file_path)\n",
    "\n",
    "print(data)\n"
   ]
  },
  {
   "cell_type": "code",
   "execution_count": 12,
   "id": "9613c660",
   "metadata": {},
   "outputs": [
    {
     "name": "stdout",
     "output_type": "stream",
     "text": [
      "  Country;Area(sq km);Birth rate(births/1000 population);Current account balance;Death rate(deaths/1000 population);Debt - external;Electricity - consumption(kWh);Electricity - production(kWh);Exports;GDP;GDP - per capita;GDP - real growth rate(%);HIV/AIDS - adult prevalence rate(%);HIV/AIDS - deaths;HIV/AIDS - people living with HIV/AIDS;Highways(km);Imports;Industrial production growth rate(%);Infant mortality rate(deaths/1000 live births);Inflation rate (consumer prices)(%);Internet hosts;Internet users;Investment (gross fixed)(% of GDP);Labor force;Life expectancy at birth(years);Military expenditures - dollar figure;Military expenditures - percent of GDP(%);Natural gas - consumption(cu m);Natural gas - exports(cu m);Natural gas - imports(cu m);Natural gas - production(cu m);Natural gas - proved reserves(cu m);Oil - consumption(bbl/day);Oil - exports(bbl/day);Oil - imports(bbl/day);Oil - production(bbl/day);Oil - proved reserves(bbl);Population;Public debt(% of GDP);Railways(km);Reserves of foreign exchange & gold;Telephones - main lines in use;Telephones - mobile cellular;Total fertility rate(children born/woman);Unemployment rate(%)\n",
      "0  String;double;double;double;double;double;doub...                                                                                                                                                                                                                                                                                                                                                                                                                                                                                                                                                                                                                                                                                                                                                                                                                                                                                                                                                                                                                                                                                                                                                \n",
      "1  Afghanistan;647500;47.02;;20.75;8000000000;652...                                                                                                                                                                                                                                                                                                                                                                                                                                                                                                                                                                                                                                                                                                                                                                                                                                                                                                                                                                                                                                                                                                                                                \n",
      "2  Akrotiri;123;;;;;;;;;;;;;;;;;;;;;;;;;;;;;;;;;;...                                                                                                                                                                                                                                                                                                                                                                                                                                                                                                                                                                                                                                                                                                                                                                                                                                                                                                                                                                                                                                                                                                                                                \n"
     ]
    }
   ],
   "source": [
    "import pandas as pd\n",
    "import matplotlib.pyplot as plt\n",
    "import csv\n",
    "\n",
    "file_path = 'factbook.csv'\n",
    "data = pd.read_csv(file_path)\n",
    "\n",
    "print(data.head(3))"
   ]
  },
  {
   "cell_type": "code",
   "execution_count": 11,
   "id": "ce73d9d8",
   "metadata": {},
   "outputs": [
    {
     "name": "stdout",
     "output_type": "stream",
     "text": [
      "    Car;MPG;Cylinders;Displacement;Horsepower;Weight;Acceleration;Model;Origin\n",
      "0    STRING;DOUBLE;INT;DOUBLE;DOUBLE;DOUBLE;DOUBLE;...                        \n",
      "1    Chevrolet Chevelle Malibu;18.0;8;307.0;130.0;3...                        \n",
      "2    Buick Skylark 320;15.0;8;350.0;165.0;3693.;11....                        \n",
      "3    Plymouth Satellite;18.0;8;318.0;150.0;3436.;11...                        \n",
      "4    AMC Rebel SST;16.0;8;304.0;150.0;3433.;12.0;70;US                        \n",
      "..                                                 ...                        \n",
      "402  Ford Mustang GL;27.0;4;140.0;86.00;2790.;15.6;...                        \n",
      "403  Volkswagen Pickup;44.0;4;97.00;52.00;2130.;24....                        \n",
      "404  Dodge Rampage;32.0;4;135.0;84.00;2295.;11.6;82;US                        \n",
      "405    Ford Ranger;28.0;4;120.0;79.00;2625.;18.6;82;US                        \n",
      "406     Chevy S-10;31.0;4;119.0;82.00;2720.;19.4;82;US                        \n",
      "\n",
      "[407 rows x 1 columns]\n"
     ]
    }
   ],
   "source": [
    "import pandas as pd\n",
    "import matplotlib.pyplot as plt\n",
    "import csv\n",
    "\n",
    "# Replace 'your_file.csv' with the actual path to your CSV file\n",
    "file_path = 'cars.csv'\n",
    "\n",
    "# Read CSV file into a pandas DataFrame\n",
    "data = pd.read_csv(file_path)\n",
    "\n",
    "print(data)"
   ]
  },
  {
   "cell_type": "code",
   "execution_count": null,
   "id": "5b6fd15f",
   "metadata": {},
   "outputs": [],
   "source": []
  }
 ],
 "metadata": {
  "kernelspec": {
   "display_name": "Python 3 (ipykernel)",
   "language": "python",
   "name": "python3"
  },
  "language_info": {
   "codemirror_mode": {
    "name": "ipython",
    "version": 3
   },
   "file_extension": ".py",
   "mimetype": "text/x-python",
   "name": "python",
   "nbconvert_exporter": "python",
   "pygments_lexer": "ipython3",
   "version": "3.11.5"
  }
 },
 "nbformat": 4,
 "nbformat_minor": 5
}
